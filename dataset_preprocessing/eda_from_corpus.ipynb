{
 "cells": [
  {
   "cell_type": "code",
   "execution_count": 60,
   "metadata": {},
   "outputs": [],
   "source": [
    "import pandas as pd\n",
    "import re"
   ]
  },
  {
   "cell_type": "markdown",
   "metadata": {},
   "source": [
    "### В данном файле была проведена очистка полученного датафрейма. Не всегда полученные дефекты можно было очистить регулярными выражениями, поэтому часть работы пришлось выполнить в ручную. Отдельной проблемой стали табличные данные, а также футер сайта."
   ]
  },
  {
   "cell_type": "code",
   "execution_count": 182,
   "metadata": {},
   "outputs": [
    {
     "data": {
      "text/plain": [
       "(32103, 4)"
      ]
     },
     "execution_count": 182,
     "metadata": {},
     "output_type": "execute_result"
    }
   ],
   "source": [
    "data = pd.read_csv('Corpus_v4.csv')\n",
    "data.shape"
   ]
  },
  {
   "cell_type": "code",
   "execution_count": 183,
   "metadata": {},
   "outputs": [
    {
     "data": {
      "text/plain": [
       "Index(['link', 'text', 'pages', 'is_markdown'], dtype='object')"
      ]
     },
     "execution_count": 183,
     "metadata": {},
     "output_type": "execute_result"
    }
   ],
   "source": [
    "data.columns"
   ]
  },
  {
   "cell_type": "code",
   "execution_count": 82,
   "metadata": {},
   "outputs": [],
   "source": [
    "best_inds = []\n",
    "with open('rows.txt') as f:\n",
    "    for line in f.readlines():\n",
    "        best_inds.append(int(line.strip()))"
   ]
  },
  {
   "cell_type": "code",
   "execution_count": 184,
   "metadata": {},
   "outputs": [
    {
     "data": {
      "text/plain": [
       "20859"
      ]
     },
     "execution_count": 184,
     "metadata": {},
     "output_type": "execute_result"
    }
   ],
   "source": [
    "len(best_inds)"
   ]
  },
  {
   "cell_type": "code",
   "execution_count": 187,
   "metadata": {},
   "outputs": [
    {
     "data": {
      "text/html": [
       "<div>\n",
       "<style scoped>\n",
       "    .dataframe tbody tr th:only-of-type {\n",
       "        vertical-align: middle;\n",
       "    }\n",
       "\n",
       "    .dataframe tbody tr th {\n",
       "        vertical-align: top;\n",
       "    }\n",
       "\n",
       "    .dataframe thead th {\n",
       "        text-align: right;\n",
       "    }\n",
       "</style>\n",
       "<table border=\"1\" class=\"dataframe\">\n",
       "  <thead>\n",
       "    <tr style=\"text-align: right;\">\n",
       "      <th></th>\n",
       "      <th>link</th>\n",
       "      <th>text</th>\n",
       "      <th>pages</th>\n",
       "      <th>is_markdown</th>\n",
       "    </tr>\n",
       "  </thead>\n",
       "  <tbody>\n",
       "    <tr>\n",
       "      <th>0</th>\n",
       "      <td>https://cbr.ru//support_measures/</td>\n",
       "      <td>Меры защиты финансового рынка Банк России прин...</td>\n",
       "      <td>NaN</td>\n",
       "      <td>False</td>\n",
       "    </tr>\n",
       "    <tr>\n",
       "      <th>1</th>\n",
       "      <td>https://cbr.ru//support_measures/</td>\n",
       "      <td>Меры защиты финансового рынка Банк России прин...</td>\n",
       "      <td>NaN</td>\n",
       "      <td>False</td>\n",
       "    </tr>\n",
       "    <tr>\n",
       "      <th>3</th>\n",
       "      <td>https://cbr.ru//reception/</td>\n",
       "      <td>Интернет-приемная Хотите обратиться в Банк Рос...</td>\n",
       "      <td>NaN</td>\n",
       "      <td>False</td>\n",
       "    </tr>\n",
       "    <tr>\n",
       "      <th>4</th>\n",
       "      <td>https://cbr.ru//support_measures/</td>\n",
       "      <td>Меры защиты финансового рынка Банк России прин...</td>\n",
       "      <td>NaN</td>\n",
       "      <td>False</td>\n",
       "    </tr>\n",
       "    <tr>\n",
       "      <th>5</th>\n",
       "      <td>https://cbr.ru//news/</td>\n",
       "      <td>Новости Все Новости Пресс-релизы Интервью Выст...</td>\n",
       "      <td>NaN</td>\n",
       "      <td>False</td>\n",
       "    </tr>\n",
       "    <tr>\n",
       "      <th>...</th>\n",
       "      <td>...</td>\n",
       "      <td>...</td>\n",
       "      <td>...</td>\n",
       "      <td>...</td>\n",
       "    </tr>\n",
       "    <tr>\n",
       "      <th>29235</th>\n",
       "      <td>https://cbr.ru//Collection/Collection/File/270...</td>\n",
       "      <td>Приложение 2. Методическ ие комментарии и поя...</td>\n",
       "      <td>52.0</td>\n",
       "      <td>False</td>\n",
       "    </tr>\n",
       "    <tr>\n",
       "      <th>29236</th>\n",
       "      <td>https://cbr.ru//Collection/Collection/File/270...</td>\n",
       "      <td>Приложение 2. Методическ ие комментарии и поя...</td>\n",
       "      <td>53.0</td>\n",
       "      <td>False</td>\n",
       "    </tr>\n",
       "    <tr>\n",
       "      <th>29239</th>\n",
       "      <td>https://cbr.ru//Collection/Collection/File/270...</td>\n",
       "      <td>№ 10 окТЯБРЬ 2018 ИнфлЯцИонные ожИданИЯ И поТ...</td>\n",
       "      <td>1.0</td>\n",
       "      <td>False</td>\n",
       "    </tr>\n",
       "    <tr>\n",
       "      <th>29240</th>\n",
       "      <td>https://cbr.ru//Collection/Collection/File/270...</td>\n",
       "      <td>окТЯБРЬ 2018 № 10 (22)ИнфлЯцИонные ожИданИЯ И...</td>\n",
       "      <td>2.0</td>\n",
       "      <td>False</td>\n",
       "    </tr>\n",
       "    <tr>\n",
       "      <th>29241</th>\n",
       "      <td>https://cbr.ru//Collection/Collection/File/270...</td>\n",
       "      <td>2ИнфлЯцИонные ожИданИЯ И поТРеБИТелЬскИе насТ...</td>\n",
       "      <td>3.0</td>\n",
       "      <td>False</td>\n",
       "    </tr>\n",
       "  </tbody>\n",
       "</table>\n",
       "<p>20859 rows × 4 columns</p>\n",
       "</div>"
      ],
      "text/plain": [
       "                                                    link  \\\n",
       "0                      https://cbr.ru//support_measures/   \n",
       "1                      https://cbr.ru//support_measures/   \n",
       "3                             https://cbr.ru//reception/   \n",
       "4                      https://cbr.ru//support_measures/   \n",
       "5                                  https://cbr.ru//news/   \n",
       "...                                                  ...   \n",
       "29235  https://cbr.ru//Collection/Collection/File/270...   \n",
       "29236  https://cbr.ru//Collection/Collection/File/270...   \n",
       "29239  https://cbr.ru//Collection/Collection/File/270...   \n",
       "29240  https://cbr.ru//Collection/Collection/File/270...   \n",
       "29241  https://cbr.ru//Collection/Collection/File/270...   \n",
       "\n",
       "                                                    text  pages  is_markdown  \n",
       "0      Меры защиты финансового рынка Банк России прин...    NaN        False  \n",
       "1      Меры защиты финансового рынка Банк России прин...    NaN        False  \n",
       "3      Интернет-приемная Хотите обратиться в Банк Рос...    NaN        False  \n",
       "4      Меры защиты финансового рынка Банк России прин...    NaN        False  \n",
       "5      Новости Все Новости Пресс-релизы Интервью Выст...    NaN        False  \n",
       "...                                                  ...    ...          ...  \n",
       "29235   Приложение 2. Методическ ие комментарии и поя...   52.0        False  \n",
       "29236   Приложение 2. Методическ ие комментарии и поя...   53.0        False  \n",
       "29239   № 10 окТЯБРЬ 2018 ИнфлЯцИонные ожИданИЯ И поТ...    1.0        False  \n",
       "29240   окТЯБРЬ 2018 № 10 (22)ИнфлЯцИонные ожИданИЯ И...    2.0        False  \n",
       "29241   2ИнфлЯцИонные ожИданИЯ И поТРеБИТелЬскИе насТ...    3.0        False  \n",
       "\n",
       "[20859 rows x 4 columns]"
      ]
     },
     "execution_count": 187,
     "metadata": {},
     "output_type": "execute_result"
    }
   ],
   "source": [
    "data = data.iloc[best_inds]\n",
    "data"
   ]
  },
  {
   "cell_type": "code",
   "execution_count": 188,
   "metadata": {},
   "outputs": [
    {
     "data": {
      "text/plain": [
       "(18839, 4)"
      ]
     },
     "execution_count": 188,
     "metadata": {},
     "output_type": "execute_result"
    }
   ],
   "source": [
    "data.dropna(subset=['text'], inplace=True)\n",
    "data.drop_duplicates(subset='text', inplace=True)\n",
    "data = data[data['text'].str.strip() != '']\n",
    "data = data[data['text'].apply(len) >= 100]\n",
    "data.shape"
   ]
  },
  {
   "cell_type": "code",
   "execution_count": 299,
   "metadata": {},
   "outputs": [],
   "source": [
    "# ручной перебор маркдаун файлов\n",
    "with open('md.txt', 'w') as f:\n",
    "    for index, row in data[data.is_markdown].iterrows():\n",
    "        f.write(f'{index} \\n')\n",
    "        f.write(f'{row[1]} \\n')"
   ]
  },
  {
   "cell_type": "code",
   "execution_count": 120,
   "metadata": {},
   "outputs": [
    {
     "data": {
      "text/html": [
       "<div>\n",
       "<style scoped>\n",
       "    .dataframe tbody tr th:only-of-type {\n",
       "        vertical-align: middle;\n",
       "    }\n",
       "\n",
       "    .dataframe tbody tr th {\n",
       "        vertical-align: top;\n",
       "    }\n",
       "\n",
       "    .dataframe thead th {\n",
       "        text-align: right;\n",
       "    }\n",
       "</style>\n",
       "<table border=\"1\" class=\"dataframe\">\n",
       "  <thead>\n",
       "    <tr style=\"text-align: right;\">\n",
       "      <th></th>\n",
       "      <th>link</th>\n",
       "      <th>text</th>\n",
       "      <th>pages</th>\n",
       "      <th>is_markdown</th>\n",
       "    </tr>\n",
       "  </thead>\n",
       "  <tbody>\n",
       "    <tr>\n",
       "      <th>164</th>\n",
       "      <td>https://cbr.ru//Queries/UniDbQuery/DownloadExc...</td>\n",
       "      <td>[MARKDOWN]| part_number | DT | cname | sname |...</td>\n",
       "      <td>NaN</td>\n",
       "      <td>True</td>\n",
       "    </tr>\n",
       "    <tr>\n",
       "      <th>1176</th>\n",
       "      <td>https://cbr.ru//vfs/credit/fzlist/fz1121list-2...</td>\n",
       "      <td>[MARKDOWN]| Перечень | |---| | кредитных орган...</td>\n",
       "      <td>NaN</td>\n",
       "      <td>True</td>\n",
       "    </tr>\n",
       "    <tr>\n",
       "      <th>1177</th>\n",
       "      <td>https://cbr.ru//vfs/credit/fzlist/fz1121list-2...</td>\n",
       "      <td>[MARKDOWN]| Перечень | |---| | кредитных орган...</td>\n",
       "      <td>NaN</td>\n",
       "      <td>True</td>\n",
       "    </tr>\n",
       "    <tr>\n",
       "      <th>1178</th>\n",
       "      <td>https://cbr.ru//vfs/credit/fzlist/fz1121list-2...</td>\n",
       "      <td>[MARKDOWN]| Перечень | |---| | кредитных орган...</td>\n",
       "      <td>NaN</td>\n",
       "      <td>True</td>\n",
       "    </tr>\n",
       "    <tr>\n",
       "      <th>1179</th>\n",
       "      <td>https://cbr.ru//vfs/credit/fzlist/fz1121list-2...</td>\n",
       "      <td>[MARKDOWN]| Перечень | |---| | кредитных орган...</td>\n",
       "      <td>NaN</td>\n",
       "      <td>True</td>\n",
       "    </tr>\n",
       "    <tr>\n",
       "      <th>...</th>\n",
       "      <td>...</td>\n",
       "      <td>...</td>\n",
       "      <td>...</td>\n",
       "      <td>...</td>\n",
       "    </tr>\n",
       "    <tr>\n",
       "      <th>2706</th>\n",
       "      <td>https://cbr.ru//Content/Document/File/156398/d...</td>\n",
       "      <td>[MARKDOWN]| Динамические ряды основных показат...</td>\n",
       "      <td>NaN</td>\n",
       "      <td>True</td>\n",
       "    </tr>\n",
       "    <tr>\n",
       "      <th>2709</th>\n",
       "      <td>https://cbr.ru//Content/Document/File/156330/d...</td>\n",
       "      <td>[MARKDOWN]| Динамические ряды основных показат...</td>\n",
       "      <td>NaN</td>\n",
       "      <td>True</td>\n",
       "    </tr>\n",
       "    <tr>\n",
       "      <th>2711</th>\n",
       "      <td>https://cbr.ru//vfs/analytics/finflows/stat_fi...</td>\n",
       "      <td>[MARKDOWN]| Статистическое приложение к публик...</td>\n",
       "      <td>NaN</td>\n",
       "      <td>True</td>\n",
       "    </tr>\n",
       "    <tr>\n",
       "      <th>2886</th>\n",
       "      <td>https://cbr.ru//Content/Document/File/70583/re...</td>\n",
       "      <td>[MARKDOWN]| Приложение 2 | |---| | Нормативы о...</td>\n",
       "      <td>NaN</td>\n",
       "      <td>True</td>\n",
       "    </tr>\n",
       "    <tr>\n",
       "      <th>2894</th>\n",
       "      <td>https://cbr.ru//Content/Document/File/131309/p...</td>\n",
       "      <td>[MARKDOWN]| Код региона | Субъект РФ | Террито...</td>\n",
       "      <td>NaN</td>\n",
       "      <td>True</td>\n",
       "    </tr>\n",
       "  </tbody>\n",
       "</table>\n",
       "<p>163 rows × 4 columns</p>\n",
       "</div>"
      ],
      "text/plain": [
       "                                                   link  \\\n",
       "164   https://cbr.ru//Queries/UniDbQuery/DownloadExc...   \n",
       "1176  https://cbr.ru//vfs/credit/fzlist/fz1121list-2...   \n",
       "1177  https://cbr.ru//vfs/credit/fzlist/fz1121list-2...   \n",
       "1178  https://cbr.ru//vfs/credit/fzlist/fz1121list-2...   \n",
       "1179  https://cbr.ru//vfs/credit/fzlist/fz1121list-2...   \n",
       "...                                                 ...   \n",
       "2706  https://cbr.ru//Content/Document/File/156398/d...   \n",
       "2709  https://cbr.ru//Content/Document/File/156330/d...   \n",
       "2711  https://cbr.ru//vfs/analytics/finflows/stat_fi...   \n",
       "2886  https://cbr.ru//Content/Document/File/70583/re...   \n",
       "2894  https://cbr.ru//Content/Document/File/131309/p...   \n",
       "\n",
       "                                                   text  pages  is_markdown  \n",
       "164   [MARKDOWN]| part_number | DT | cname | sname |...    NaN         True  \n",
       "1176  [MARKDOWN]| Перечень | |---| | кредитных орган...    NaN         True  \n",
       "1177  [MARKDOWN]| Перечень | |---| | кредитных орган...    NaN         True  \n",
       "1178  [MARKDOWN]| Перечень | |---| | кредитных орган...    NaN         True  \n",
       "1179  [MARKDOWN]| Перечень | |---| | кредитных орган...    NaN         True  \n",
       "...                                                 ...    ...          ...  \n",
       "2706  [MARKDOWN]| Динамические ряды основных показат...    NaN         True  \n",
       "2709  [MARKDOWN]| Динамические ряды основных показат...    NaN         True  \n",
       "2711  [MARKDOWN]| Статистическое приложение к публик...    NaN         True  \n",
       "2886  [MARKDOWN]| Приложение 2 | |---| | Нормативы о...    NaN         True  \n",
       "2894  [MARKDOWN]| Код региона | Субъект РФ | Террито...    NaN         True  \n",
       "\n",
       "[163 rows x 4 columns]"
      ]
     },
     "execution_count": 120,
     "metadata": {},
     "output_type": "execute_result"
    }
   ],
   "source": [
    "data[data.is_markdown]"
   ]
  },
  {
   "cell_type": "code",
   "execution_count": 189,
   "metadata": {},
   "outputs": [],
   "source": [
    "bad_ind = [1971, 1972, 1973, 1974, 1975, 1976, 1980, 1981, 1982, 1983, 1984, 1985, 1986, 1987, 1988, 1989, 1990, 1991, 1992, 1993, 1994, 1995, 1996, 1997, 1998, 1999, 2000, 2001, 2002, 2003, 2004, 2005, 2035, \n",
    "           2084, 2088, 2090, 2092, 2093, 2094, \n",
    "           2106, 2107, 2108, 2109, 2142, \n",
    "           2522, 2523, 2524, 2525, 2526, 2527, \n",
    "           2529, 2530, 2532, 2533, 2534, 2535, 2536, 2537, 2538, 2539, 2540, \n",
    "           2544, 2545, 2546, 2547, 2548, 2549, 2550, 2552, 2553, 2554, 2555, 2556, 2557, 2558, 2559, 2560, 2677, 2686, 2709, 2886]"
   ]
  },
  {
   "cell_type": "code",
   "execution_count": 190,
   "metadata": {},
   "outputs": [],
   "source": [
    "data2 = data.copy()"
   ]
  },
  {
   "cell_type": "code",
   "execution_count": 191,
   "metadata": {},
   "outputs": [],
   "source": [
    "import re\n",
    "\n",
    "# Предположим, что data2 - это ваш DataFrame, а bad_ind - это индекс строки\n",
    "\n",
    "# Функция для замены цифр на пустоту в строке\n",
    "def remove_numbers(text):\n",
    "    return re.sub(r'\\d', '', text)\n",
    "\n",
    "# Применяем функцию ко всем полям 'text' в DataFrame data2 по индексу bad_ind\n",
    "data2.loc[bad_ind]['text'] = data2.loc[bad_ind]['text'].apply(remove_numbers)"
   ]
  },
  {
   "cell_type": "code",
   "execution_count": 345,
   "metadata": {},
   "outputs": [],
   "source": [
    "# ручной перебор обычных файлов\n",
    "with open('common_texts.txt', 'w') as f:\n",
    "    for index, row in data2[~data2.is_markdown].iterrows():\n",
    "        f.write(f'{index} \\n')\n",
    "        f.write(f'{row[1]} \\n')"
   ]
  },
  {
   "cell_type": "code",
   "execution_count": null,
   "metadata": {},
   "outputs": [],
   "source": [
    "import re\n",
    "\n",
    "# Функция для удаления последовательностей точек и тире\n",
    "def remove_dots_and_dashes(text):\n",
    "    # Удаление последовательностей точек\n",
    "    text = re.sub(r'\\.\\s*\\.\\s*\\.\\s*', '', text)\n",
    "    # Удаление последовательностей тире\n",
    "    text = re.sub(r'–\\s*–\\s*–\\s*', '', text)\n",
    "    return text\n",
    "\n",
    "# Применение функции к столбцу 'text'\n",
    "data2['text'] = data2['text'].apply(remove_dots_and_dashes)\n"
   ]
  },
  {
   "cell_type": "code",
   "execution_count": null,
   "metadata": {},
   "outputs": [],
   "source": [
    "range(8880, 21263)"
   ]
  },
  {
   "cell_type": "code",
   "execution_count": 249,
   "metadata": {},
   "outputs": [],
   "source": [
    "bad_com_texts= [21265, 21266, 21269, 21270, 21273, 21274]"
   ]
  },
  {
   "cell_type": "code",
   "execution_count": 253,
   "metadata": {},
   "outputs": [
    {
     "data": {
      "text/html": [
       "<div>\n",
       "<style scoped>\n",
       "    .dataframe tbody tr th:only-of-type {\n",
       "        vertical-align: middle;\n",
       "    }\n",
       "\n",
       "    .dataframe tbody tr th {\n",
       "        vertical-align: top;\n",
       "    }\n",
       "\n",
       "    .dataframe thead th {\n",
       "        text-align: right;\n",
       "    }\n",
       "</style>\n",
       "<table border=\"1\" class=\"dataframe\">\n",
       "  <thead>\n",
       "    <tr style=\"text-align: right;\">\n",
       "      <th></th>\n",
       "      <th>link</th>\n",
       "      <th>text</th>\n",
       "      <th>pages</th>\n",
       "      <th>is_markdown</th>\n",
       "      <th>is_table</th>\n",
       "    </tr>\n",
       "  </thead>\n",
       "  <tbody>\n",
       "    <tr>\n",
       "      <th>0</th>\n",
       "      <td>https://cbr.ru//support_measures/</td>\n",
       "      <td>Меры защиты финансового рынка Банк России прин...</td>\n",
       "      <td>NaN</td>\n",
       "      <td>False</td>\n",
       "      <td>False</td>\n",
       "    </tr>\n",
       "    <tr>\n",
       "      <th>3</th>\n",
       "      <td>https://cbr.ru//reception/</td>\n",
       "      <td>Интернет-приемная Хотите обратиться в Банк Рос...</td>\n",
       "      <td>NaN</td>\n",
       "      <td>False</td>\n",
       "      <td>False</td>\n",
       "    </tr>\n",
       "    <tr>\n",
       "      <th>6</th>\n",
       "      <td>https://cbr.ru//rbr/</td>\n",
       "      <td>Решения Банка России Рубрикатор Обновлено 07.0...</td>\n",
       "      <td>NaN</td>\n",
       "      <td>False</td>\n",
       "      <td>False</td>\n",
       "    </tr>\n",
       "    <tr>\n",
       "      <th>7</th>\n",
       "      <td>https://cbr.ru//contacts/</td>\n",
       "      <td>Контактная информация Контактный центр В насто...</td>\n",
       "      <td>NaN</td>\n",
       "      <td>False</td>\n",
       "      <td>False</td>\n",
       "    </tr>\n",
       "    <tr>\n",
       "      <th>8</th>\n",
       "      <td>https://cbr.ru//sitemap</td>\n",
       "      <td>О сайте Карта сайта Денежно-кредитная политика...</td>\n",
       "      <td>NaN</td>\n",
       "      <td>False</td>\n",
       "      <td>False</td>\n",
       "    </tr>\n",
       "  </tbody>\n",
       "</table>\n",
       "</div>"
      ],
      "text/plain": [
       "                                link  \\\n",
       "0  https://cbr.ru//support_measures/   \n",
       "3         https://cbr.ru//reception/   \n",
       "6               https://cbr.ru//rbr/   \n",
       "7          https://cbr.ru//contacts/   \n",
       "8            https://cbr.ru//sitemap   \n",
       "\n",
       "                                                text  pages  is_markdown  \\\n",
       "0  Меры защиты финансового рынка Банк России прин...    NaN        False   \n",
       "3  Интернет-приемная Хотите обратиться в Банк Рос...    NaN        False   \n",
       "6  Решения Банка России Рубрикатор Обновлено 07.0...    NaN        False   \n",
       "7  Контактная информация Контактный центр В насто...    NaN        False   \n",
       "8  О сайте Карта сайта Денежно-кредитная политика...    NaN        False   \n",
       "\n",
       "   is_table  \n",
       "0     False  \n",
       "3     False  \n",
       "6     False  \n",
       "7     False  \n",
       "8     False  "
      ]
     },
     "execution_count": 253,
     "metadata": {},
     "output_type": "execute_result"
    }
   ],
   "source": [
    "data2.head()"
   ]
  },
  {
   "cell_type": "code",
   "execution_count": 266,
   "metadata": {},
   "outputs": [
    {
     "data": {
      "text/html": [
       "<div>\n",
       "<style scoped>\n",
       "    .dataframe tbody tr th:only-of-type {\n",
       "        vertical-align: middle;\n",
       "    }\n",
       "\n",
       "    .dataframe tbody tr th {\n",
       "        vertical-align: top;\n",
       "    }\n",
       "\n",
       "    .dataframe thead th {\n",
       "        text-align: right;\n",
       "    }\n",
       "</style>\n",
       "<table border=\"1\" class=\"dataframe\">\n",
       "  <thead>\n",
       "    <tr style=\"text-align: right;\">\n",
       "      <th></th>\n",
       "      <th>link</th>\n",
       "      <th>text</th>\n",
       "      <th>pages</th>\n",
       "      <th>is_markdown</th>\n",
       "      <th>is_table</th>\n",
       "    </tr>\n",
       "  </thead>\n",
       "  <tbody>\n",
       "    <tr>\n",
       "      <th>8880</th>\n",
       "      <td>https://cbr.ru//Collection/Collection/File/252...</td>\n",
       "      <td>Таблица 1 Показатель 1.01.14 1.01.15 1.01.16 ...</td>\n",
       "      <td>2.0</td>\n",
       "      <td>False</td>\n",
       "      <td>True</td>\n",
       "    </tr>\n",
       "    <tr>\n",
       "      <th>8882</th>\n",
       "      <td>https://cbr.ru//Collection/Collection/File/252...</td>\n",
       "      <td>Таблица 3 2007 2008 2009 2010 2011 2012 2013 ...</td>\n",
       "      <td>4.0</td>\n",
       "      <td>False</td>\n",
       "      <td>False</td>\n",
       "    </tr>\n",
       "    <tr>\n",
       "      <th>8886</th>\n",
       "      <td>https://cbr.ru//Collection/Collection/File/252...</td>\n",
       "      <td>Таблица 7 Концентрация активов по банковскому...</td>\n",
       "      <td>8.0</td>\n",
       "      <td>False</td>\n",
       "      <td>False</td>\n",
       "    </tr>\n",
       "    <tr>\n",
       "      <th>8943</th>\n",
       "      <td>https://cbr.ru//Collection/Collection/File/252...</td>\n",
       "      <td>Таблица 56 Валютные активы и пассивы в совоку...</td>\n",
       "      <td>65.0</td>\n",
       "      <td>False</td>\n",
       "      <td>False</td>\n",
       "    </tr>\n",
       "    <tr>\n",
       "      <th>8949</th>\n",
       "      <td>https://cbr.ru//Collection/Collection/File/252...</td>\n",
       "      <td>Таблица 62 Распределение кредитных организаци...</td>\n",
       "      <td>71.0</td>\n",
       "      <td>False</td>\n",
       "      <td>False</td>\n",
       "    </tr>\n",
       "    <tr>\n",
       "      <th>...</th>\n",
       "      <td>...</td>\n",
       "      <td>...</td>\n",
       "      <td>...</td>\n",
       "      <td>...</td>\n",
       "      <td>...</td>\n",
       "    </tr>\n",
       "    <tr>\n",
       "      <th>21258</th>\n",
       "      <td>https://cbr.ru//Collection/Collection/File/409...</td>\n",
       "      <td>Средства на счетах эскроу млрд руб. / % 175% ...</td>\n",
       "      <td>3.0</td>\n",
       "      <td>False</td>\n",
       "      <td>False</td>\n",
       "    </tr>\n",
       "    <tr>\n",
       "      <th>21259</th>\n",
       "      <td>https://cbr.ru//Collection/Collection/File/409...</td>\n",
       "      <td>Основные показатели проектного финансирования...</td>\n",
       "      <td>4.0</td>\n",
       "      <td>False</td>\n",
       "      <td>False</td>\n",
       "    </tr>\n",
       "    <tr>\n",
       "      <th>21261</th>\n",
       "      <td>https://cbr.ru//Collection/Collection/File/398...</td>\n",
       "      <td>1 005 1 301 1 6752 232 2 5792 7243 4174 1505 ...</td>\n",
       "      <td>2.0</td>\n",
       "      <td>False</td>\n",
       "      <td>False</td>\n",
       "    </tr>\n",
       "    <tr>\n",
       "      <th>21262</th>\n",
       "      <td>https://cbr.ru//Collection/Collection/File/398...</td>\n",
       "      <td>Средства на счетах эскроу млрд руб. 191% 118%...</td>\n",
       "      <td>3.0</td>\n",
       "      <td>False</td>\n",
       "      <td>False</td>\n",
       "    </tr>\n",
       "    <tr>\n",
       "      <th>21263</th>\n",
       "      <td>https://cbr.ru//Collection/Collection/File/398...</td>\n",
       "      <td>Основные показатели проектного финансирования...</td>\n",
       "      <td>4.0</td>\n",
       "      <td>False</td>\n",
       "      <td>False</td>\n",
       "    </tr>\n",
       "  </tbody>\n",
       "</table>\n",
       "<p>7665 rows × 5 columns</p>\n",
       "</div>"
      ],
      "text/plain": [
       "                                                    link  \\\n",
       "8880   https://cbr.ru//Collection/Collection/File/252...   \n",
       "8882   https://cbr.ru//Collection/Collection/File/252...   \n",
       "8886   https://cbr.ru//Collection/Collection/File/252...   \n",
       "8943   https://cbr.ru//Collection/Collection/File/252...   \n",
       "8949   https://cbr.ru//Collection/Collection/File/252...   \n",
       "...                                                  ...   \n",
       "21258  https://cbr.ru//Collection/Collection/File/409...   \n",
       "21259  https://cbr.ru//Collection/Collection/File/409...   \n",
       "21261  https://cbr.ru//Collection/Collection/File/398...   \n",
       "21262  https://cbr.ru//Collection/Collection/File/398...   \n",
       "21263  https://cbr.ru//Collection/Collection/File/398...   \n",
       "\n",
       "                                                    text  pages  is_markdown  \\\n",
       "8880    Таблица 1 Показатель 1.01.14 1.01.15 1.01.16 ...    2.0        False   \n",
       "8882    Таблица 3 2007 2008 2009 2010 2011 2012 2013 ...    4.0        False   \n",
       "8886    Таблица 7 Концентрация активов по банковскому...    8.0        False   \n",
       "8943    Таблица 56 Валютные активы и пассивы в совоку...   65.0        False   \n",
       "8949    Таблица 62 Распределение кредитных организаци...   71.0        False   \n",
       "...                                                  ...    ...          ...   \n",
       "21258   Средства на счетах эскроу млрд руб. / % 175% ...    3.0        False   \n",
       "21259   Основные показатели проектного финансирования...    4.0        False   \n",
       "21261   1 005 1 301 1 6752 232 2 5792 7243 4174 1505 ...    2.0        False   \n",
       "21262   Средства на счетах эскроу млрд руб. 191% 118%...    3.0        False   \n",
       "21263   Основные показатели проектного финансирования...    4.0        False   \n",
       "\n",
       "       is_table  \n",
       "8880       True  \n",
       "8882      False  \n",
       "8886      False  \n",
       "8943      False  \n",
       "8949      False  \n",
       "...         ...  \n",
       "21258     False  \n",
       "21259     False  \n",
       "21261     False  \n",
       "21262     False  \n",
       "21263     False  \n",
       "\n",
       "[7665 rows x 5 columns]"
      ]
     },
     "execution_count": 266,
     "metadata": {},
     "output_type": "execute_result"
    }
   ],
   "source": [
    "data2.loc[8880:21263]"
   ]
  },
  {
   "cell_type": "code",
   "execution_count": 161,
   "metadata": {},
   "outputs": [
    {
     "data": {
      "text/plain": [
       "link           https://cbr.ru//Queries/UniDbQuery/File/90134/...\n",
       "text           9. HacT051IIJ,ee YKa3aHHe BCTyrraeT B CHJIY rr...\n",
       "pages                                                        NaN\n",
       "is_markdown                                                False\n",
       "Name: 244, dtype: object"
      ]
     },
     "execution_count": 161,
     "metadata": {},
     "output_type": "execute_result"
    }
   ],
   "source": [
    "data2.loc[244]"
   ]
  },
  {
   "cell_type": "code",
   "execution_count": 169,
   "metadata": {},
   "outputs": [
    {
     "data": {
      "text/plain": [
       "True"
      ]
     },
     "execution_count": 169,
     "metadata": {},
     "output_type": "execute_result"
    }
   ],
   "source": [
    "244 in list(map(int, data2.index))"
   ]
  },
  {
   "cell_type": "code",
   "execution_count": 212,
   "metadata": {},
   "outputs": [
    {
     "name": "stdout",
     "output_type": "stream",
     "text": [
      "[4155, 5841, 5843, 5847, 6375, 6419, 6534, 6578, 7951]\n"
     ]
    }
   ],
   "source": [
    "bad_com_texts_red = []\n",
    "\n",
    "for i in bad_com_texts:\n",
    "    if i in list(map(int, data2.index)):\n",
    "        bad_com_texts_red.append(i)\n",
    "print(bad_com_texts_red)"
   ]
  },
  {
   "cell_type": "code",
   "execution_count": 154,
   "metadata": {},
   "outputs": [
    {
     "name": "stdout",
     "output_type": "stream",
     "text": [
      "2563, 2564, 2565, 2566, 2567, 2568, 2569\n"
     ]
    }
   ],
   "source": [
    "print(*list(range(2563, 2569+ 1)), sep=', ')"
   ]
  },
  {
   "cell_type": "code",
   "execution_count": 192,
   "metadata": {},
   "outputs": [
    {
     "data": {
      "text/plain": [
       "(18744, 4)"
      ]
     },
     "execution_count": 192,
     "metadata": {},
     "output_type": "execute_result"
    }
   ],
   "source": [
    "filter = data2['text'].str.contains(\"Пн Вт Ср Чт Пт Сб Вс 1 2 3 4 5 6 7 8 9 10 11 12 13\")\n",
    "data2 = data2[~filter]\n",
    "data2.shape"
   ]
  },
  {
   "cell_type": "code",
   "execution_count": 194,
   "metadata": {},
   "outputs": [
    {
     "data": {
      "text/plain": [
       "(18672, 4)"
      ]
     },
     "execution_count": 194,
     "metadata": {},
     "output_type": "execute_result"
    }
   ],
   "source": [
    "filter = data2['text'].str.contains(\"2024 г. 2023 г. 2022 г. 2021 г. 2020 г. 2019 г.\")\n",
    "data2 = data2[~filter]\n",
    "data2.shape"
   ]
  },
  {
   "cell_type": "code",
   "execution_count": 195,
   "metadata": {},
   "outputs": [
    {
     "data": {
      "text/plain": [
       "(18643, 4)"
      ]
     },
     "execution_count": 195,
     "metadata": {},
     "output_type": "execute_result"
    }
   ],
   "source": [
    "filter = data2['text'].str.contains(\"2011 2010 2009 2008 2007 2006 2005 2004 2003 2002 2001\")\n",
    "data2 = data2[~filter]\n",
    "data2.shape"
   ]
  },
  {
   "cell_type": "code",
   "execution_count": 196,
   "metadata": {},
   "outputs": [
    {
     "data": {
      "text/plain": [
       "(18598, 4)"
      ]
     },
     "execution_count": 196,
     "metadata": {},
     "output_type": "execute_result"
    }
   ],
   "source": [
    "filter = data2['text'].str.contains(\"Январь Декабрь Ноябрь Октябрь Сентябрь Август Июль Июнь\")\n",
    "data2 = data2[~filter]\n",
    "data2.shape"
   ]
  },
  {
   "cell_type": "code",
   "execution_count": 197,
   "metadata": {},
   "outputs": [
    {
     "data": {
      "text/plain": [
       "(18546, 4)"
      ]
     },
     "execution_count": 197,
     "metadata": {},
     "output_type": "execute_result"
    }
   ],
   "source": [
    "filter = data2['text'].str.contains(\"май 2015 г.: апрель 2015 г.: март 2015 г.: февраль 2015 г.: январь 2014 г.\")\n",
    "data2 = data2[~filter]\n",
    "data2.shape"
   ]
  },
  {
   "cell_type": "code",
   "execution_count": 203,
   "metadata": {},
   "outputs": [
    {
     "data": {
      "text/plain": [
       "(18442, 4)"
      ]
     },
     "execution_count": 203,
     "metadata": {},
     "output_type": "execute_result"
    }
   ],
   "source": [
    "filter = data2['text'].str.contains(\"2023 г. 2022 г. 2021 г. 2020 г.\")\n",
    "data2 = data2[~filter]\n",
    "data2.shape"
   ]
  },
  {
   "cell_type": "code",
   "execution_count": 205,
   "metadata": {},
   "outputs": [
    {
     "data": {
      "text/plain": [
       "(18438, 4)"
      ]
     },
     "execution_count": 205,
     "metadata": {},
     "output_type": "execute_result"
    }
   ],
   "source": [
    "filter = data2['text'].str.contains(\"2014 2015 2016 2017 2018 2019 2020 2021 2022 2023 2024 2025 2026\")\n",
    "data2 = data2[~filter]\n",
    "data2.shape"
   ]
  },
  {
   "cell_type": "code",
   "execution_count": 209,
   "metadata": {},
   "outputs": [],
   "source": [
    "import re\n",
    "\n",
    "pattern = re.compile(r'^[\\d\\s]+')\n",
    "\n",
    "# Функция для удаления цифр и пробелов до первого слова в строке\n",
    "def remove_digits_and_spaces(text):\n",
    "    return pattern.sub('', text)\n",
    "\n",
    "data2.loc[8014:8314, 'text'] = data2.loc[8014:8314, 'text'].apply(remove_digits_and_spaces)"
   ]
  },
  {
   "cell_type": "code",
   "execution_count": 226,
   "metadata": {},
   "outputs": [],
   "source": [
    "data2['text'] = data2['text'].str.replace('\\x07', '')"
   ]
  },
  {
   "cell_type": "code",
   "execution_count": 247,
   "metadata": {},
   "outputs": [
    {
     "data": {
      "text/plain": [
       "(18366, 4)"
      ]
     },
     "execution_count": 247,
     "metadata": {},
     "output_type": "execute_result"
    }
   ],
   "source": [
    "filter = data2['text'].str.contains(\"Материал подготовлен Департаментом статистики. При использовании материалов выпуска ссылка на Банк России обязательна.\")\n",
    "data2 = data2[~filter]\n",
    "data2.shape"
   ]
  },
  {
   "cell_type": "code",
   "execution_count": 198,
   "metadata": {},
   "outputs": [
    {
     "data": {
      "text/plain": [
       "(18526, 4)"
      ]
     },
     "execution_count": 198,
     "metadata": {},
     "output_type": "execute_result"
    }
   ],
   "source": [
    "data2 = data2.drop([244, 245, 308, 1135, 1940, 2347, 2359, 2363, 2386, 2387, 2388, 2435, 2437, 2476, 2563, 2565, 2566, 2568, 2569, 2696])\n",
    "data2.shape"
   ]
  },
  {
   "cell_type": "code",
   "execution_count": 200,
   "metadata": {},
   "outputs": [
    {
     "data": {
      "text/plain": [
       "(18461, 4)"
      ]
     },
     "execution_count": 200,
     "metadata": {},
     "output_type": "execute_result"
    }
   ],
   "source": [
    "filter = data2['text'].str.contains(\"За все время За последний месяц За последний год\")\n",
    "data2 = data2[~filter]\n",
    "data2.shape"
   ]
  },
  {
   "cell_type": "code",
   "execution_count": 263,
   "metadata": {},
   "outputs": [
    {
     "data": {
      "text/plain": [
       "7665"
      ]
     },
     "execution_count": 263,
     "metadata": {},
     "output_type": "execute_result"
    }
   ],
   "source": [
    "table_inds = []\n",
    "for i in range(8880, 21264+1):\n",
    "    if i in data2.loc[8880:21264].index:\n",
    "        table_inds.append(i)\n",
    "len(table_inds)"
   ]
  },
  {
   "cell_type": "code",
   "execution_count": 297,
   "metadata": {},
   "outputs": [],
   "source": [
    "import re\n",
    "\n",
    "\n",
    "def remove_numbers_commas_periods(text):\n",
    "    cleaned_text = re.sub(r'[\\d,.%–<≤>/]', '', text)\n",
    "    cleaned_text = re.sub(r'\\s+', ' ', cleaned_text)\n",
    "    return cleaned_text\n",
    "\n",
    "# Применяем функцию ко всем полям 'text' в DataFrame data2 по индексу bad_ind\n",
    "data2.loc[table_inds, 'text'] = data2.loc[table_inds, 'text'].apply(remove_numbers_commas_periods)\n",
    "data2.loc[table_inds, 'is_table'] = True"
   ]
  },
  {
   "cell_type": "code",
   "execution_count": 296,
   "metadata": {},
   "outputs": [],
   "source": [
    "data2.loc[table_inds, 'text'] = data2.loc[table_inds, 'text'].apply(remove_numbers_commas_periods)\n"
   ]
  },
  {
   "cell_type": "code",
   "execution_count": 298,
   "metadata": {},
   "outputs": [
    {
     "data": {
      "text/html": [
       "<div>\n",
       "<style scoped>\n",
       "    .dataframe tbody tr th:only-of-type {\n",
       "        vertical-align: middle;\n",
       "    }\n",
       "\n",
       "    .dataframe tbody tr th {\n",
       "        vertical-align: top;\n",
       "    }\n",
       "\n",
       "    .dataframe thead th {\n",
       "        text-align: right;\n",
       "    }\n",
       "</style>\n",
       "<table border=\"1\" class=\"dataframe\">\n",
       "  <thead>\n",
       "    <tr style=\"text-align: right;\">\n",
       "      <th></th>\n",
       "      <th>link</th>\n",
       "      <th>text</th>\n",
       "      <th>pages</th>\n",
       "      <th>is_markdown</th>\n",
       "      <th>is_table</th>\n",
       "    </tr>\n",
       "  </thead>\n",
       "  <tbody>\n",
       "    <tr>\n",
       "      <th>8880</th>\n",
       "      <td>https://cbr.ru//Collection/Collection/File/252...</td>\n",
       "      <td>Таблица Показатель Совокупные активы (пассивы...</td>\n",
       "      <td>2.0</td>\n",
       "      <td>False</td>\n",
       "      <td>True</td>\n",
       "    </tr>\n",
       "    <tr>\n",
       "      <th>8882</th>\n",
       "      <td>https://cbr.ru//Collection/Collection/File/252...</td>\n",
       "      <td>Таблица Активы - Капитал Кредиты предоставлен...</td>\n",
       "      <td>4.0</td>\n",
       "      <td>False</td>\n",
       "      <td>True</td>\n",
       "    </tr>\n",
       "    <tr>\n",
       "      <th>8886</th>\n",
       "      <td>https://cbr.ru//Collection/Collection/File/252...</td>\n",
       "      <td>Таблица Концентрация активов по банковскому с...</td>\n",
       "      <td>8.0</td>\n",
       "      <td>False</td>\n",
       "      <td>True</td>\n",
       "    </tr>\n",
       "    <tr>\n",
       "      <th>8943</th>\n",
       "      <td>https://cbr.ru//Collection/Collection/File/252...</td>\n",
       "      <td>Таблица Валютные активы и пассивы в совокупны...</td>\n",
       "      <td>65.0</td>\n",
       "      <td>False</td>\n",
       "      <td>True</td>\n",
       "    </tr>\n",
       "    <tr>\n",
       "      <th>8949</th>\n",
       "      <td>https://cbr.ru//Collection/Collection/File/252...</td>\n",
       "      <td>Таблица Распределение кредитных организаций п...</td>\n",
       "      <td>71.0</td>\n",
       "      <td>False</td>\n",
       "      <td>True</td>\n",
       "    </tr>\n",
       "    <tr>\n",
       "      <th>...</th>\n",
       "      <td>...</td>\n",
       "      <td>...</td>\n",
       "      <td>...</td>\n",
       "      <td>...</td>\n",
       "      <td>...</td>\n",
       "    </tr>\n",
       "    <tr>\n",
       "      <th>21258</th>\n",
       "      <td>https://cbr.ru//Collection/Collection/File/409...</td>\n",
       "      <td>Средства на счетах эскроу млрд руб Высокие пр...</td>\n",
       "      <td>3.0</td>\n",
       "      <td>False</td>\n",
       "      <td>True</td>\n",
       "    </tr>\n",
       "    <tr>\n",
       "      <th>21259</th>\n",
       "      <td>https://cbr.ru//Collection/Collection/File/409...</td>\n",
       "      <td>Основные показатели проектного финансирования...</td>\n",
       "      <td>4.0</td>\n",
       "      <td>False</td>\n",
       "      <td>True</td>\n",
       "    </tr>\n",
       "    <tr>\n",
       "      <th>21261</th>\n",
       "      <td>https://cbr.ru//Collection/Collection/File/398...</td>\n",
       "      <td>к к к к кНеиспользованный кредитный лимит Зад...</td>\n",
       "      <td>2.0</td>\n",
       "      <td>False</td>\n",
       "      <td>True</td>\n",
       "    </tr>\n",
       "    <tr>\n",
       "      <th>21262</th>\n",
       "      <td>https://cbr.ru//Collection/Collection/File/398...</td>\n",
       "      <td>Средства на счетах эскроу млрд руб Рекордные ...</td>\n",
       "      <td>3.0</td>\n",
       "      <td>False</td>\n",
       "      <td>True</td>\n",
       "    </tr>\n",
       "    <tr>\n",
       "      <th>21263</th>\n",
       "      <td>https://cbr.ru//Collection/Collection/File/398...</td>\n",
       "      <td>Основные показатели проектного финансирования...</td>\n",
       "      <td>4.0</td>\n",
       "      <td>False</td>\n",
       "      <td>True</td>\n",
       "    </tr>\n",
       "  </tbody>\n",
       "</table>\n",
       "<p>7665 rows × 5 columns</p>\n",
       "</div>"
      ],
      "text/plain": [
       "                                                    link  \\\n",
       "8880   https://cbr.ru//Collection/Collection/File/252...   \n",
       "8882   https://cbr.ru//Collection/Collection/File/252...   \n",
       "8886   https://cbr.ru//Collection/Collection/File/252...   \n",
       "8943   https://cbr.ru//Collection/Collection/File/252...   \n",
       "8949   https://cbr.ru//Collection/Collection/File/252...   \n",
       "...                                                  ...   \n",
       "21258  https://cbr.ru//Collection/Collection/File/409...   \n",
       "21259  https://cbr.ru//Collection/Collection/File/409...   \n",
       "21261  https://cbr.ru//Collection/Collection/File/398...   \n",
       "21262  https://cbr.ru//Collection/Collection/File/398...   \n",
       "21263  https://cbr.ru//Collection/Collection/File/398...   \n",
       "\n",
       "                                                    text  pages  is_markdown  \\\n",
       "8880    Таблица Показатель Совокупные активы (пассивы...    2.0        False   \n",
       "8882    Таблица Активы - Капитал Кредиты предоставлен...    4.0        False   \n",
       "8886    Таблица Концентрация активов по банковскому с...    8.0        False   \n",
       "8943    Таблица Валютные активы и пассивы в совокупны...   65.0        False   \n",
       "8949    Таблица Распределение кредитных организаций п...   71.0        False   \n",
       "...                                                  ...    ...          ...   \n",
       "21258   Средства на счетах эскроу млрд руб Высокие пр...    3.0        False   \n",
       "21259   Основные показатели проектного финансирования...    4.0        False   \n",
       "21261   к к к к кНеиспользованный кредитный лимит Зад...    2.0        False   \n",
       "21262   Средства на счетах эскроу млрд руб Рекордные ...    3.0        False   \n",
       "21263   Основные показатели проектного финансирования...    4.0        False   \n",
       "\n",
       "       is_table  \n",
       "8880       True  \n",
       "8882       True  \n",
       "8886       True  \n",
       "8943       True  \n",
       "8949       True  \n",
       "...         ...  \n",
       "21258      True  \n",
       "21259      True  \n",
       "21261      True  \n",
       "21262      True  \n",
       "21263      True  \n",
       "\n",
       "[7665 rows x 5 columns]"
      ]
     },
     "execution_count": 298,
     "metadata": {},
     "output_type": "execute_result"
    }
   ],
   "source": [
    "data2.loc[table_inds]"
   ]
  },
  {
   "cell_type": "code",
   "execution_count": 333,
   "metadata": {},
   "outputs": [
    {
     "data": {
      "text/plain": [
       "1791"
      ]
     },
     "execution_count": 333,
     "metadata": {},
     "output_type": "execute_result"
    }
   ],
   "source": [
    "# пришлось визуально выделить дефектные строки..\n",
    "to_clear = list(range(25772, 25814 + 1)) + list(range(25847, 25889 + 1)) + list(range(25919, 25961 + 1))\n",
    "to_clear += list(range(25989, 26031 + 1)) + list(range(26060, 26102 + 1)) + list(range(26128 , 26170 + 1))\n",
    "to_clear += list(range(26196, 26238 + 1)) + list(range(26268, 26310 + 1)) + list(range(26339, 26381 + 1))\n",
    "to_clear += list(range(26405, 26447 + 1)) + list(range(26472, 26512 + 1)) + list(range(26534, 26576 + 1))\n",
    "\n",
    "to_clear += list(range(26602, 26643 + 1)) + list(range(26666, 26708 + 1)) + list(range(26735, 26777 + 1))\n",
    "to_clear += list(range(26800, 26842 + 1)) + list(range(26862, 26903 + 1)) + list(range(26928, 26968 + 1))\n",
    "to_clear += list(range(26990, 27032 + 1)) + list(range(27054, 27095 + 1)) + list(range(27115, 27156 + 1))\n",
    "\n",
    "to_clear += list(range(27174, 27216 + 1)) + list(range(27236, 27278 + 1)) + list(range(27303, 27345 + 1))\n",
    "to_clear += list(range(27365, 27407 + 1)) + list(range(27425, 27467 + 1)) + list(range(27783, 27824 + 1))\n",
    "to_clear += list(range(27841, 27882 + 1)) + list(range(27900, 27941 + 1)) + list(range(27964, 28004 + 1))\n",
    "\n",
    "to_clear += list(range(28021, 28063 + 1)) + list(range(28140, 28182 + 1)) + list(range(28198, 28240 + 1))\n",
    "to_clear += list(range(28255, 28297 + 1)) + list(range(28312, 28354 + 1)) + list(range(28369, 28411 + 1))\n",
    "to_clear += list(range(28427, 28469 + 1)) + list(range(28486, 28527 + 1)) + list(range(28543, 28585 + 1))\n",
    "\n",
    "to_clear += list(range(28602, 28626 + 1)) + list(range(28648, 28667 + 1)) + list(range(28701, 28702 + 1))\n",
    "to_clear += list(range(28716, 28734 + 1)) + list(range(29139, 29227 + 1))\n",
    "\n",
    "to_clear = [x for x in to_clear if x in data2.index]\n",
    "len(to_clear)"
   ]
  },
  {
   "cell_type": "code",
   "execution_count": 334,
   "metadata": {},
   "outputs": [],
   "source": [
    "import re\n",
    "\n",
    "# Функция для удаления чисел\n",
    "def remove_numbers(text):\n",
    "    return re.sub(r'\\d', '', text)\n",
    "\n",
    "# Функция для удаления последовательностей букв длиной 3\n",
    "def remove_3_letter_sequences(text):\n",
    "    return re.sub(r'\\b\\w{3}\\b', '', text)\n",
    "\n",
    "# Функция для удаления длинных пробелов\n",
    "def remove_long_spaces(text):\n",
    "    return re.sub(r'\\s{2,}', ' ', text)\n",
    "\n",
    "# Применение функций к столбцу 'text'\n",
    "data2.loc[to_clear, 'text'] = (\n",
    "    data2.loc[to_clear, 'text']\n",
    "    .apply(remove_numbers)\n",
    "    .apply(remove_3_letter_sequences)\n",
    "    .apply(remove_long_spaces)\n",
    ")\n"
   ]
  },
  {
   "cell_type": "code",
   "execution_count": 340,
   "metadata": {},
   "outputs": [],
   "source": [
    "data2.loc[to_clear, 'text'] = data2.loc[to_clear, 'text'].apply(remove_numbers).apply(remove_3_letter_sequences).apply(remove_long_spaces)"
   ]
  },
  {
   "cell_type": "code",
   "execution_count": 343,
   "metadata": {},
   "outputs": [],
   "source": [
    "data2.loc[to_clear, 'is_table'] = True"
   ]
  },
  {
   "cell_type": "code",
   "execution_count": 305,
   "metadata": {},
   "outputs": [
    {
     "data": {
      "text/plain": [
       "(18356, 5)"
      ]
     },
     "execution_count": 305,
     "metadata": {},
     "output_type": "execute_result"
    }
   ],
   "source": [
    "data2 = data2.drop([29214])\n",
    "data2.shape"
   ]
  },
  {
   "cell_type": "code",
   "execution_count": 344,
   "metadata": {},
   "outputs": [],
   "source": [
    "data2.to_csv('data_final.csv', index=None)"
   ]
  },
  {
   "cell_type": "code",
   "execution_count": null,
   "metadata": {},
   "outputs": [],
   "source": []
  }
 ],
 "metadata": {
  "kernelspec": {
   "display_name": "base",
   "language": "python",
   "name": "python3"
  },
  "language_info": {
   "codemirror_mode": {
    "name": "ipython",
    "version": 3
   },
   "file_extension": ".py",
   "mimetype": "text/x-python",
   "name": "python",
   "nbconvert_exporter": "python",
   "pygments_lexer": "ipython3",
   "version": "3.9.12"
  }
 },
 "nbformat": 4,
 "nbformat_minor": 2
}
