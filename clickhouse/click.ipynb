{
 "cells": [
  {
   "cell_type": "code",
   "execution_count": 1,
   "metadata": {},
   "outputs": [
    {
     "name": "stderr",
     "output_type": "stream",
     "text": [
      "c:\\ProgramData\\Anaconda3\\lib\\site-packages\\scipy\\__init__.py:146: UserWarning: A NumPy version >=1.16.5 and <1.23.0 is required for this version of SciPy (detected version 1.26.4\n",
      "  warnings.warn(f\"A NumPy version >={np_minversion} and <{np_maxversion}\"\n"
     ]
    }
   ],
   "source": [
    "from nltk.tokenize import word_tokenize\n",
    "\n",
    "from embedding import E5LargeEmbeddingFunction\n",
    "\n",
    "import clickhouse_connect\n",
    "import pandas as pd\n",
    "import logging\n",
    "\n",
    "client = clickhouse_connect.get_client(host='y1jzidyt9q.us-east-2.aws.clickhouse.cloud', port=8443, username='default', password='_lQ_JWXYQD3ym')"
   ]
  },
  {
   "cell_type": "markdown",
   "metadata": {},
   "source": [
    "## Данный файл использовался для загрузки данныхв в ClickHouse из собранного и обработанного ранее csv файла"
   ]
  },
  {
   "cell_type": "code",
   "execution_count": 2,
   "metadata": {},
   "outputs": [
    {
     "data": {
      "text/plain": [
       "(18207, 5)"
      ]
     },
     "execution_count": 2,
     "metadata": {},
     "output_type": "execute_result"
    }
   ],
   "source": [
    "data = pd.read_csv('data_final.csv')\n",
    "data.shape"
   ]
  },
  {
   "cell_type": "code",
   "execution_count": 3,
   "metadata": {},
   "outputs": [],
   "source": [
    "def get_nltk_chunks(text, chunk_size=200, chunk_overlap=100, language=\"russian\"):\n",
    "    words = word_tokenize(text, language=language)\n",
    "\n",
    "    chunks = []\n",
    "\n",
    "    end_index = chunk_size\n",
    "    while end_index - chunk_size < len(words):\n",
    "        sentence = ''\n",
    "        tokens_counter = 0\n",
    "        for word in words[end_index - chunk_size:end_index]:\n",
    "            if word in ',.?!:)»' or (sentence and sentence[-1] in '«('):\n",
    "                sentence += word\n",
    "            else:\n",
    "                sentence += \" \" + word\n",
    "            tokens_counter += 1\n",
    "\n",
    "        if tokens_counter < chunk_size and chunks:\n",
    "            words = word_tokenize(chunks[-1] + sentence)[-chunk_size:]\n",
    "            sentence = ''\n",
    "            for word in words:\n",
    "                if word in ',.?!:)»' or (sentence and sentence[-1] in '«('):\n",
    "                    sentence += word\n",
    "                else:\n",
    "                    sentence += \" \" + word\n",
    "                    \n",
    "        chunks.append(sentence)\n",
    "        end_index += chunk_size - chunk_overlap\n",
    "\n",
    "    return chunks"
   ]
  },
  {
   "cell_type": "code",
   "execution_count": 4,
   "metadata": {},
   "outputs": [],
   "source": [
    "logging.basicConfig(level=logging.INFO, filename='db.log', filemode=\"a\",\n",
    "                       format=\"%(asctime)s %(levelname)s %(message)s\")\n",
    "\n",
    "emb_func = E5LargeEmbeddingFunction()\n",
    "\n",
    "emb_func.change_mode(new_mode='passage')"
   ]
  },
  {
   "cell_type": "code",
   "execution_count": 6,
   "metadata": {},
   "outputs": [],
   "source": [
    "for index, row in data[4000:8000].iterrows(): \n",
    "    try:\n",
    "        if index % 25 == 0:\n",
    "            logging.info(f'{index} done')\n",
    "        link = row.link\n",
    "        text = row.text\n",
    "        pages = row.pages\n",
    "\n",
    "        if not isinstance(pages, int):\n",
    "            pages = 0\n",
    "\n",
    "        is_markdown = row.is_markdown\n",
    "        is_table = row.is_table\n",
    " \n",
    "        if is_table:\n",
    "            chunks = get_nltk_chunks(text, chunk_size = 400, chunk_overlap = 100)\n",
    "        else:\n",
    "            chunks = get_nltk_chunks(text, chunk_size = 400, chunk_overlap = 100)\n",
    "\n",
    "        insert_data = []\n",
    "        for i, chunk in enumerate(chunks):\n",
    "            insert_data.append((index, i, link, chunk, pages, is_table, *emb_func(chunk)))\n",
    "            \n",
    "        client.insert('index_texts_final', insert_data, column_names=['ID', 'chunk_id', 'link', 'text', 'pages', 'is_table', 'embedding'])\n",
    "    except Exception as e:\n",
    "        logging.error(index)"
   ]
  }
 ],
 "metadata": {
  "kernelspec": {
   "display_name": "base",
   "language": "python",
   "name": "python3"
  },
  "language_info": {
   "codemirror_mode": {
    "name": "ipython",
    "version": 3
   },
   "file_extension": ".py",
   "mimetype": "text/x-python",
   "name": "python",
   "nbconvert_exporter": "python",
   "pygments_lexer": "ipython3",
   "version": "3.9.12"
  }
 },
 "nbformat": 4,
 "nbformat_minor": 2
}
