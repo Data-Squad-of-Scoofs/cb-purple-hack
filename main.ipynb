{
 "cells": [
  {
   "cell_type": "code",
   "execution_count": 3,
   "metadata": {},
   "outputs": [],
   "source": [
    "import pandas as pd\n",
    "from chroma_db import ChromaDB"
   ]
  },
  {
   "cell_type": "code",
   "execution_count": 4,
   "metadata": {},
   "outputs": [
    {
     "data": {
      "text/html": [
       "<div>\n",
       "<style scoped>\n",
       "    .dataframe tbody tr th:only-of-type {\n",
       "        vertical-align: middle;\n",
       "    }\n",
       "\n",
       "    .dataframe tbody tr th {\n",
       "        vertical-align: top;\n",
       "    }\n",
       "\n",
       "    .dataframe thead th {\n",
       "        text-align: right;\n",
       "    }\n",
       "</style>\n",
       "<table border=\"1\" class=\"dataframe\">\n",
       "  <thead>\n",
       "    <tr style=\"text-align: right;\">\n",
       "      <th></th>\n",
       "      <th>link</th>\n",
       "      <th>text</th>\n",
       "      <th>pages</th>\n",
       "      <th>is_markdown</th>\n",
       "    </tr>\n",
       "  </thead>\n",
       "  <tbody>\n",
       "    <tr>\n",
       "      <th>0</th>\n",
       "      <td>https://cbr.ru//support_measures/</td>\n",
       "      <td>Меры защиты финансового рынка Банк России прин...</td>\n",
       "      <td>NaN</td>\n",
       "      <td>False</td>\n",
       "    </tr>\n",
       "    <tr>\n",
       "      <th>1</th>\n",
       "      <td>https://cbr.ru//support_measures/</td>\n",
       "      <td>Меры защиты финансового рынка Банк России прин...</td>\n",
       "      <td>NaN</td>\n",
       "      <td>False</td>\n",
       "    </tr>\n",
       "    <tr>\n",
       "      <th>2</th>\n",
       "      <td>https://cbr.ru//reception/</td>\n",
       "      <td>Интернет-приемная Хотите обратиться в Банк Рос...</td>\n",
       "      <td>NaN</td>\n",
       "      <td>False</td>\n",
       "    </tr>\n",
       "    <tr>\n",
       "      <th>3</th>\n",
       "      <td>https://cbr.ru//reception/</td>\n",
       "      <td>Интернет-приемная Хотите обратиться в Банк Рос...</td>\n",
       "      <td>NaN</td>\n",
       "      <td>False</td>\n",
       "    </tr>\n",
       "    <tr>\n",
       "      <th>4</th>\n",
       "      <td>https://cbr.ru//support_measures/</td>\n",
       "      <td>Меры защиты финансового рынка Банк России прин...</td>\n",
       "      <td>NaN</td>\n",
       "      <td>False</td>\n",
       "    </tr>\n",
       "  </tbody>\n",
       "</table>\n",
       "</div>"
      ],
      "text/plain": [
       "                                link  \\\n",
       "0  https://cbr.ru//support_measures/   \n",
       "1  https://cbr.ru//support_measures/   \n",
       "2         https://cbr.ru//reception/   \n",
       "3         https://cbr.ru//reception/   \n",
       "4  https://cbr.ru//support_measures/   \n",
       "\n",
       "                                                text  pages  is_markdown  \n",
       "0  Меры защиты финансового рынка Банк России прин...    NaN        False  \n",
       "1  Меры защиты финансового рынка Банк России прин...    NaN        False  \n",
       "2  Интернет-приемная Хотите обратиться в Банк Рос...    NaN        False  \n",
       "3  Интернет-приемная Хотите обратиться в Банк Рос...    NaN        False  \n",
       "4  Меры защиты финансового рынка Банк России прин...    NaN        False  "
      ]
     },
     "execution_count": 4,
     "metadata": {},
     "output_type": "execute_result"
    }
   ],
   "source": [
    "data = pd.read_csv('Corpus_v4.csv')\n",
    "data.head()"
   ]
  },
  {
   "cell_type": "code",
   "execution_count": 5,
   "metadata": {},
   "outputs": [
    {
     "name": "stderr",
     "output_type": "stream",
     "text": [
      "c:\\ProgramData\\Anaconda3\\lib\\site-packages\\scipy\\__init__.py:146: UserWarning: A NumPy version >=1.16.5 and <1.23.0 is required for this version of SciPy (detected version 1.26.4\n",
      "  warnings.warn(f\"A NumPy version >={np_minversion} and <{np_maxversion}\"\n",
      "[nltk_data] Downloading package punkt to\n",
      "[nltk_data]     C:\\Users\\Никита\\AppData\\Roaming\\nltk_data...\n",
      "[nltk_data]   Package punkt is already up-to-date!\n"
     ]
    },
    {
     "data": {
      "text/plain": [
       "True"
      ]
     },
     "execution_count": 5,
     "metadata": {},
     "output_type": "execute_result"
    }
   ],
   "source": [
    "import nltk\n",
    "from nltk.tokenize import word_tokenize, sent_tokenize\n",
    "\n",
    "nltk.download('punkt')"
   ]
  },
  {
   "cell_type": "code",
   "execution_count": 6,
   "metadata": {},
   "outputs": [],
   "source": [
    "def get_nltk_chunks(text, chunk_size=200, chunk_overlap=100, language=\"russian\"):\n",
    "    words = word_tokenize(text, language=language)\n",
    "\n",
    "    chunks = []\n",
    "\n",
    "    end_index = chunk_size\n",
    "    while end_index - chunk_size < len(words):\n",
    "        sentence = ''\n",
    "        for word in words[end_index - chunk_size:end_index]:\n",
    "            if word in ',.?!:)»' or (sentence and sentence[-1] in '«('):\n",
    "                sentence += word\n",
    "            else:\n",
    "                sentence += \" \" + word\n",
    "\n",
    "        chunks.append(sentence)\n",
    "        end_index += chunk_size - chunk_overlap\n",
    "\n",
    "    return chunks"
   ]
  },
  {
   "cell_type": "code",
   "execution_count": 17,
   "metadata": {},
   "outputs": [],
   "source": [
    "# for chunk in get_nltk_chunks(data.text[319], chunk_size = 200, chunk_overlap = 20):\n",
    "#     print(len(chunk), chunk)\n",
    "#     print()"
   ]
  },
  {
   "cell_type": "code",
   "execution_count": 7,
   "metadata": {},
   "outputs": [],
   "source": [
    "chroma = ChromaDB('84.201.178.246', port=8000)"
   ]
  },
  {
   "cell_type": "code",
   "execution_count": 1,
   "metadata": {},
   "outputs": [],
   "source": [
    "import logging\n",
    "\n",
    "logging.basicConfig(level=logging.INFO, filename='db.log', filemode=\"a\",\n",
    "                       format=\"%(asctime)s %(levelname)s %(message)s\")"
   ]
  },
  {
   "cell_type": "code",
   "execution_count": 20,
   "metadata": {},
   "outputs": [],
   "source": [
    "for index, row in data[:10000].iterrows(): \n",
    "    try:\n",
    "        if index % 25 == 0:\n",
    "            logging.info(f'{index} done')\n",
    "        link = row.link\n",
    "        text = row.text\n",
    "        pages = row.pages\n",
    "        is_markdown = row.is_markdown\n",
    "        if is_markdown:\n",
    "            chunks = get_nltk_chunks(text, chunk_size = 2000, chunk_overlap = 100)\n",
    "        else:\n",
    "            chunks = get_nltk_chunks(text, chunk_size = 200, chunk_overlap = 20)\n",
    "        chroma.insert_document(index, chunks, link, is_markdown, pages)\n",
    "    except Exception as e:\n",
    "        logging.error(index)"
   ]
  }
 ],
 "metadata": {
  "kernelspec": {
   "display_name": "base",
   "language": "python",
   "name": "python3"
  },
  "language_info": {
   "codemirror_mode": {
    "name": "ipython",
    "version": 3
   },
   "file_extension": ".py",
   "mimetype": "text/x-python",
   "name": "python",
   "nbconvert_exporter": "python",
   "pygments_lexer": "ipython3",
   "version": "3.9.12"
  }
 },
 "nbformat": 4,
 "nbformat_minor": 2
}
