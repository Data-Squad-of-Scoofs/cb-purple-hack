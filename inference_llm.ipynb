{
 "cells": [
  {
   "cell_type": "markdown",
   "id": "aa54bf16",
   "metadata": {},
   "source": [
    "**Inference к модели, захосченной через ngrok & LM Studio**"
   ]
  },
  {
   "cell_type": "code",
   "execution_count": 36,
   "id": "d90217c5",
   "metadata": {},
   "outputs": [],
   "source": [
    "import requests\n",
    "import json\n",
    "\n",
    "def message_llm(system_prompt, user_input, temperature=0.7):\n",
    "    '''Function to message (test) our LLM'''\n",
    "\n",
    "    try:\n",
    "        url = \"https://live-relaxed-oryx.ngrok-free.app/v1/chat/completions\"\n",
    "\n",
    "        data = {\n",
    "          \"messages\": [\n",
    "            { \"role\": \"system\", \"content\": system_prompt},\n",
    "            { \"role\": \"user\", \"content\": user_input}\n",
    "          ],\n",
    "          \"temperature\": 0.7,\n",
    "          \"max_tokens\": -1,\n",
    "          \"stream\": False\n",
    "        }\n",
    "\n",
    "        headers = {\n",
    "            \"Content-Type\": \"application/json\"\n",
    "        }\n",
    "\n",
    "        response = requests.post(url, headers=headers, data=json.dumps(data))\n",
    "\n",
    "        if response.status_code == 200:\n",
    "            return eval(response.text.replace(\"\\n  \", \"\"))['choices'][0]['message']['content']\n",
    "        else:\n",
    "            print(\"Ошибка запроса:\\n\", response.status_code, response.text)\n",
    "            return \"\"\n",
    "            \n",
    "    except Exception as e:\n",
    "        \n",
    "        print(f\"Error {e}!\")\n",
    "        \n",
    "batch = \"Банк России поддерживает инфляцию вблизи целевого уровня — 4%. \\\n",
    "Такая политика называется таргетированием инфляции (от англ. target — «цель»). \\\n",
    "Основной инструмент денежно-кредитной политики — это ключевая ставка. \\\n",
    "Ключевая ставка — это процент, под который центральный банк выдает кредиты коммерческим банкам \\\n",
    "и принимает от них деньги на депозиты. Изменение ключевой ставки влияет на спрос через ставки \\\n",
    "в экономике и в конечном итоге — на инфляцию. При этом центральный банк опирается на макроэкономический \\\n",
    "прогноз и учитывает ситуацию в экономике и на финансовых рынках.\"\n",
    "\n",
    "rag_prompt = \"\"\n",
    "\n",
    "system_prompt = f\"На основании приведенного контекста дай исчерпывающий ответ на следующий вопрос \\\n",
    "(если ответа на вопрос нет, направь пользователя на главную страницу Центробанка РФ: https://cbr.ru/): \\\n",
    "КОНТЕКСТ: {batch}\"\n",
    "\n",
    "user_prompt = \"На каком уровне ЦБ РФ поддерживает ставку инфляции? На что опирается ЦБ?\"\n",
    "\n",
    "answer = message_llm(system_prompt, user_prompt)"
   ]
  },
  {
   "cell_type": "code",
   "execution_count": 37,
   "id": "0a70d47e",
   "metadata": {},
   "outputs": [
    {
     "data": {
      "text/plain": [
       "'ЦБ РФ поддерживает ставку инфляции на уровне 4%. Центральный банк опирается на макроэкономический прогноз и учитывает ситуацию в экономике и на финансовых рынках.'"
      ]
     },
     "execution_count": 37,
     "metadata": {},
     "output_type": "execute_result"
    }
   ],
   "source": [
    "answer"
   ]
  },
  {
   "cell_type": "code",
   "execution_count": null,
   "id": "d35a6d3b",
   "metadata": {},
   "outputs": [],
   "source": []
  }
 ],
 "metadata": {
  "kernelspec": {
   "display_name": "Python 3 (ipykernel)",
   "language": "python",
   "name": "python3"
  },
  "language_info": {
   "codemirror_mode": {
    "name": "ipython",
    "version": 3
   },
   "file_extension": ".py",
   "mimetype": "text/x-python",
   "name": "python",
   "nbconvert_exporter": "python",
   "pygments_lexer": "ipython3",
   "version": "3.11.5"
  }
 },
 "nbformat": 4,
 "nbformat_minor": 5
}
